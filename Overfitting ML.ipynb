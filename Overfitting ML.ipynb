{
 "cells": [
  {
   "cell_type": "code",
   "execution_count": 1,
   "id": "88836dba",
   "metadata": {},
   "outputs": [],
   "source": [
    "from sklearn.datasets import make_classification"
   ]
  },
  {
   "cell_type": "code",
   "execution_count": 2,
   "id": "c4b7a57c",
   "metadata": {},
   "outputs": [],
   "source": [
    "x,y = make_classification(n_samples=100000, n_features=50)"
   ]
  },
  {
   "cell_type": "code",
   "execution_count": 3,
   "id": "23595560",
   "metadata": {},
   "outputs": [],
   "source": [
    "import pandas as pd\n",
    "x = pd.DataFrame(x)"
   ]
  },
  {
   "cell_type": "code",
   "execution_count": 4,
   "id": "a1b99b26",
   "metadata": {},
   "outputs": [
    {
     "data": {
      "text/html": [
       "<div>\n",
       "<style scoped>\n",
       "    .dataframe tbody tr th:only-of-type {\n",
       "        vertical-align: middle;\n",
       "    }\n",
       "\n",
       "    .dataframe tbody tr th {\n",
       "        vertical-align: top;\n",
       "    }\n",
       "\n",
       "    .dataframe thead th {\n",
       "        text-align: right;\n",
       "    }\n",
       "</style>\n",
       "<table border=\"1\" class=\"dataframe\">\n",
       "  <thead>\n",
       "    <tr style=\"text-align: right;\">\n",
       "      <th></th>\n",
       "      <th>0</th>\n",
       "      <th>1</th>\n",
       "      <th>2</th>\n",
       "      <th>3</th>\n",
       "      <th>4</th>\n",
       "      <th>5</th>\n",
       "      <th>6</th>\n",
       "      <th>7</th>\n",
       "      <th>8</th>\n",
       "      <th>9</th>\n",
       "      <th>...</th>\n",
       "      <th>40</th>\n",
       "      <th>41</th>\n",
       "      <th>42</th>\n",
       "      <th>43</th>\n",
       "      <th>44</th>\n",
       "      <th>45</th>\n",
       "      <th>46</th>\n",
       "      <th>47</th>\n",
       "      <th>48</th>\n",
       "      <th>49</th>\n",
       "    </tr>\n",
       "  </thead>\n",
       "  <tbody>\n",
       "    <tr>\n",
       "      <th>0</th>\n",
       "      <td>0.212756</td>\n",
       "      <td>0.515338</td>\n",
       "      <td>-0.699873</td>\n",
       "      <td>-0.857891</td>\n",
       "      <td>1.008071</td>\n",
       "      <td>-0.696030</td>\n",
       "      <td>0.096224</td>\n",
       "      <td>-2.162380</td>\n",
       "      <td>-1.028144</td>\n",
       "      <td>1.333725</td>\n",
       "      <td>...</td>\n",
       "      <td>-1.502406</td>\n",
       "      <td>0.024128</td>\n",
       "      <td>0.241817</td>\n",
       "      <td>-0.981121</td>\n",
       "      <td>1.608771</td>\n",
       "      <td>0.168365</td>\n",
       "      <td>1.290967</td>\n",
       "      <td>1.552690</td>\n",
       "      <td>-0.354650</td>\n",
       "      <td>0.064356</td>\n",
       "    </tr>\n",
       "    <tr>\n",
       "      <th>1</th>\n",
       "      <td>1.296986</td>\n",
       "      <td>1.445561</td>\n",
       "      <td>0.713871</td>\n",
       "      <td>1.341426</td>\n",
       "      <td>3.736466</td>\n",
       "      <td>-1.639391</td>\n",
       "      <td>-1.299436</td>\n",
       "      <td>0.235514</td>\n",
       "      <td>-1.146801</td>\n",
       "      <td>0.836293</td>\n",
       "      <td>...</td>\n",
       "      <td>0.602443</td>\n",
       "      <td>0.478171</td>\n",
       "      <td>0.826585</td>\n",
       "      <td>-0.747213</td>\n",
       "      <td>-0.699708</td>\n",
       "      <td>-1.228880</td>\n",
       "      <td>0.348131</td>\n",
       "      <td>-1.066896</td>\n",
       "      <td>-0.232904</td>\n",
       "      <td>-0.748569</td>\n",
       "    </tr>\n",
       "    <tr>\n",
       "      <th>2</th>\n",
       "      <td>-1.445607</td>\n",
       "      <td>0.422580</td>\n",
       "      <td>-0.203121</td>\n",
       "      <td>-1.500266</td>\n",
       "      <td>0.498562</td>\n",
       "      <td>-1.388532</td>\n",
       "      <td>-0.723625</td>\n",
       "      <td>0.058876</td>\n",
       "      <td>1.103236</td>\n",
       "      <td>0.083440</td>\n",
       "      <td>...</td>\n",
       "      <td>0.594081</td>\n",
       "      <td>0.809543</td>\n",
       "      <td>0.536143</td>\n",
       "      <td>0.625279</td>\n",
       "      <td>0.035297</td>\n",
       "      <td>-0.111506</td>\n",
       "      <td>0.229321</td>\n",
       "      <td>-2.859558</td>\n",
       "      <td>-0.852766</td>\n",
       "      <td>-0.875361</td>\n",
       "    </tr>\n",
       "    <tr>\n",
       "      <th>3</th>\n",
       "      <td>-0.667404</td>\n",
       "      <td>-0.801387</td>\n",
       "      <td>0.129386</td>\n",
       "      <td>-0.282050</td>\n",
       "      <td>0.357003</td>\n",
       "      <td>0.167732</td>\n",
       "      <td>-0.334586</td>\n",
       "      <td>0.749455</td>\n",
       "      <td>-2.153726</td>\n",
       "      <td>-0.674758</td>\n",
       "      <td>...</td>\n",
       "      <td>0.081879</td>\n",
       "      <td>0.464537</td>\n",
       "      <td>-0.201076</td>\n",
       "      <td>1.282745</td>\n",
       "      <td>-2.043319</td>\n",
       "      <td>0.276709</td>\n",
       "      <td>-1.696116</td>\n",
       "      <td>0.940339</td>\n",
       "      <td>-0.357293</td>\n",
       "      <td>0.238862</td>\n",
       "    </tr>\n",
       "    <tr>\n",
       "      <th>4</th>\n",
       "      <td>0.897072</td>\n",
       "      <td>0.776609</td>\n",
       "      <td>-1.509899</td>\n",
       "      <td>1.504939</td>\n",
       "      <td>-0.271692</td>\n",
       "      <td>2.059568</td>\n",
       "      <td>-1.091144</td>\n",
       "      <td>-1.586129</td>\n",
       "      <td>-0.149380</td>\n",
       "      <td>0.575395</td>\n",
       "      <td>...</td>\n",
       "      <td>-0.507288</td>\n",
       "      <td>0.138923</td>\n",
       "      <td>0.077442</td>\n",
       "      <td>-1.866309</td>\n",
       "      <td>0.633692</td>\n",
       "      <td>0.462682</td>\n",
       "      <td>-1.029513</td>\n",
       "      <td>0.546435</td>\n",
       "      <td>0.034780</td>\n",
       "      <td>-0.176313</td>\n",
       "    </tr>\n",
       "  </tbody>\n",
       "</table>\n",
       "<p>5 rows × 50 columns</p>\n",
       "</div>"
      ],
      "text/plain": [
       "         0         1         2         3         4         5         6   \\\n",
       "0  0.212756  0.515338 -0.699873 -0.857891  1.008071 -0.696030  0.096224   \n",
       "1  1.296986  1.445561  0.713871  1.341426  3.736466 -1.639391 -1.299436   \n",
       "2 -1.445607  0.422580 -0.203121 -1.500266  0.498562 -1.388532 -0.723625   \n",
       "3 -0.667404 -0.801387  0.129386 -0.282050  0.357003  0.167732 -0.334586   \n",
       "4  0.897072  0.776609 -1.509899  1.504939 -0.271692  2.059568 -1.091144   \n",
       "\n",
       "         7         8         9   ...        40        41        42        43  \\\n",
       "0 -2.162380 -1.028144  1.333725  ... -1.502406  0.024128  0.241817 -0.981121   \n",
       "1  0.235514 -1.146801  0.836293  ...  0.602443  0.478171  0.826585 -0.747213   \n",
       "2  0.058876  1.103236  0.083440  ...  0.594081  0.809543  0.536143  0.625279   \n",
       "3  0.749455 -2.153726 -0.674758  ...  0.081879  0.464537 -0.201076  1.282745   \n",
       "4 -1.586129 -0.149380  0.575395  ... -0.507288  0.138923  0.077442 -1.866309   \n",
       "\n",
       "         44        45        46        47        48        49  \n",
       "0  1.608771  0.168365  1.290967  1.552690 -0.354650  0.064356  \n",
       "1 -0.699708 -1.228880  0.348131 -1.066896 -0.232904 -0.748569  \n",
       "2  0.035297 -0.111506  0.229321 -2.859558 -0.852766 -0.875361  \n",
       "3 -2.043319  0.276709 -1.696116  0.940339 -0.357293  0.238862  \n",
       "4  0.633692  0.462682 -1.029513  0.546435  0.034780 -0.176313  \n",
       "\n",
       "[5 rows x 50 columns]"
      ]
     },
     "execution_count": 4,
     "metadata": {},
     "output_type": "execute_result"
    }
   ],
   "source": [
    "x.head()"
   ]
  },
  {
   "cell_type": "code",
   "execution_count": 5,
   "id": "b9f9b560",
   "metadata": {},
   "outputs": [],
   "source": [
    "y = pd.DataFrame(y)"
   ]
  },
  {
   "cell_type": "code",
   "execution_count": 6,
   "id": "ebf26a2c",
   "metadata": {},
   "outputs": [
    {
     "data": {
      "text/html": [
       "<div>\n",
       "<style scoped>\n",
       "    .dataframe tbody tr th:only-of-type {\n",
       "        vertical-align: middle;\n",
       "    }\n",
       "\n",
       "    .dataframe tbody tr th {\n",
       "        vertical-align: top;\n",
       "    }\n",
       "\n",
       "    .dataframe thead th {\n",
       "        text-align: right;\n",
       "    }\n",
       "</style>\n",
       "<table border=\"1\" class=\"dataframe\">\n",
       "  <thead>\n",
       "    <tr style=\"text-align: right;\">\n",
       "      <th></th>\n",
       "      <th>0</th>\n",
       "    </tr>\n",
       "  </thead>\n",
       "  <tbody>\n",
       "    <tr>\n",
       "      <th>0</th>\n",
       "      <td>1</td>\n",
       "    </tr>\n",
       "    <tr>\n",
       "      <th>1</th>\n",
       "      <td>0</td>\n",
       "    </tr>\n",
       "    <tr>\n",
       "      <th>2</th>\n",
       "      <td>1</td>\n",
       "    </tr>\n",
       "    <tr>\n",
       "      <th>3</th>\n",
       "      <td>0</td>\n",
       "    </tr>\n",
       "    <tr>\n",
       "      <th>4</th>\n",
       "      <td>1</td>\n",
       "    </tr>\n",
       "  </tbody>\n",
       "</table>\n",
       "</div>"
      ],
      "text/plain": [
       "   0\n",
       "0  1\n",
       "1  0\n",
       "2  1\n",
       "3  0\n",
       "4  1"
      ]
     },
     "execution_count": 6,
     "metadata": {},
     "output_type": "execute_result"
    }
   ],
   "source": [
    "y.head()"
   ]
  },
  {
   "cell_type": "code",
   "execution_count": 7,
   "id": "3c75ba7c",
   "metadata": {},
   "outputs": [
    {
     "data": {
      "text/plain": [
       "(100000, 50)"
      ]
     },
     "execution_count": 7,
     "metadata": {},
     "output_type": "execute_result"
    }
   ],
   "source": [
    "x.shape"
   ]
  },
  {
   "cell_type": "code",
   "execution_count": 8,
   "id": "00c69b21",
   "metadata": {},
   "outputs": [],
   "source": [
    "from sklearn.model_selection import train_test_split"
   ]
  },
  {
   "cell_type": "code",
   "execution_count": 9,
   "id": "864d34ed",
   "metadata": {},
   "outputs": [],
   "source": [
    "xtrain, xtest, ytrain, ytest = train_test_split(x,y,random_state=1, test_size=.70)"
   ]
  },
  {
   "cell_type": "code",
   "execution_count": 10,
   "id": "2e39d826",
   "metadata": {},
   "outputs": [
    {
     "data": {
      "text/plain": [
       "(30000, 50)"
      ]
     },
     "execution_count": 10,
     "metadata": {},
     "output_type": "execute_result"
    }
   ],
   "source": [
    "xtrain.shape"
   ]
  },
  {
   "cell_type": "code",
   "execution_count": 11,
   "id": "bf3aba2e",
   "metadata": {},
   "outputs": [],
   "source": [
    "test_scores = []\n",
    "train_scores = []"
   ]
  },
  {
   "cell_type": "code",
   "execution_count": 12,
   "id": "94e67c5a",
   "metadata": {},
   "outputs": [],
   "source": [
    "from sklearn.tree import DecisionTreeClassifier"
   ]
  },
  {
   "cell_type": "code",
   "execution_count": 13,
   "id": "8541d3f7",
   "metadata": {},
   "outputs": [],
   "source": [
    "#clf = DecisionTreeClassifier()\n",
    "max_depths = [ n for n in range(1,20)]"
   ]
  },
  {
   "cell_type": "code",
   "execution_count": 14,
   "id": "68697019",
   "metadata": {},
   "outputs": [],
   "source": [
    "#max_depths"
   ]
  },
  {
   "cell_type": "code",
   "execution_count": 15,
   "id": "ff8a3a18",
   "metadata": {},
   "outputs": [
    {
     "data": {
      "text/plain": [
       "\"\\nfor x in max_depths:\\n    print(x)\\n    print('thanmo')\\n\""
      ]
     },
     "execution_count": 15,
     "metadata": {},
     "output_type": "execute_result"
    }
   ],
   "source": [
    "'''\n",
    "for x in max_depths:\n",
    "    print(x)\n",
    "    print('thanmo')\n",
    "'''"
   ]
  },
  {
   "cell_type": "code",
   "execution_count": 16,
   "id": "61cc5a48",
   "metadata": {},
   "outputs": [
    {
     "name": "stdout",
     "output_type": "stream",
     "text": [
      "Depth =1 ,Train Acc = 0.901967 , Test Acc = 0.902071\n",
      "Depth =2 ,Train Acc = 0.913467 , Test Acc = 0.912686\n",
      "Depth =3 ,Train Acc = 0.913467 , Test Acc = 0.912686\n",
      "Depth =4 ,Train Acc = 0.919100 , Test Acc = 0.917914\n",
      "Depth =5 ,Train Acc = 0.924800 , Test Acc = 0.923471\n",
      "Depth =6 ,Train Acc = 0.926400 , Test Acc = 0.923729\n",
      "Depth =7 ,Train Acc = 0.930600 , Test Acc = 0.921400\n",
      "Depth =8 ,Train Acc = 0.934800 , Test Acc = 0.920100\n",
      "Depth =9 ,Train Acc = 0.939833 , Test Acc = 0.916457\n",
      "Depth =10 ,Train Acc = 0.944767 , Test Acc = 0.915214\n",
      "Depth =11 ,Train Acc = 0.950933 , Test Acc = 0.913271\n",
      "Depth =12 ,Train Acc = 0.958167 , Test Acc = 0.910129\n",
      "Depth =13 ,Train Acc = 0.964867 , Test Acc = 0.909529\n",
      "Depth =14 ,Train Acc = 0.970667 , Test Acc = 0.907843\n",
      "Depth =15 ,Train Acc = 0.976933 , Test Acc = 0.906586\n",
      "Depth =16 ,Train Acc = 0.981333 , Test Acc = 0.904657\n",
      "Depth =17 ,Train Acc = 0.984900 , Test Acc = 0.902614\n",
      "Depth =18 ,Train Acc = 0.988200 , Test Acc = 0.902200\n",
      "Depth =19 ,Train Acc = 0.990433 , Test Acc = 0.901029\n"
     ]
    }
   ],
   "source": [
    "for i in max_depths:\n",
    "    clf = DecisionTreeClassifier(max_depth=i)\n",
    "    clf.fit(xtrain,ytrain)\n",
    "    \n",
    "    #Training Accuracy\n",
    "    train_acc = clf.score(xtrain, ytrain)\n",
    "    train_scores.append(train_acc)\n",
    "    \n",
    "    #Testing Accuracy\n",
    "    test_acc = clf.score(xtest, ytest)\n",
    "    test_scores.append(test_acc)\n",
    "    \n",
    "    print('Depth =%d ,Train Acc = %f , Test Acc = %f' % (i,train_acc, test_acc))"
   ]
  },
  {
   "cell_type": "code",
   "execution_count": 19,
   "id": "56c5b562",
   "metadata": {},
   "outputs": [
    {
     "data": {
      "text/plain": [
       "[<matplotlib.lines.Line2D at 0x248a7d91430>]"
      ]
     },
     "execution_count": 19,
     "metadata": {},
     "output_type": "execute_result"
    },
    {
     "data": {
      "image/png": "[encoded data removed]",
      "text/plain": [
       "<Figure size 432x288 with 1 Axes>"
      ]
     },
     "metadata": {
      "needs_background": "light"
     },
     "output_type": "display_data"
    }
   ],
   "source": [
    "import matplotlib.pyplot as plt\n",
    "plt.plot(max_depths, train_scores)\n",
    "plt.plot(max_depths, test_scores)"
   ]
  },
  {
   "cell_type": "code",
   "execution_count": 23,
   "id": "24a1ea96",
   "metadata": {},
   "outputs": [
    {
     "data": {
      "text/plain": [
       "<matplotlib.legend.Legend at 0x248a7f42850>"
      ]
     },
     "execution_count": 23,
     "metadata": {},
     "output_type": "execute_result"
    },
    {
     "data": {
      "image/png": "[encoded data removed]",
      "text/plain": [
       "<Figure size 1440x720 with 1 Axes>"
      ]
     },
     "metadata": {
      "needs_background": "light"
     },
     "output_type": "display_data"
    }
   ],
   "source": [
    "import matplotlib.pyplot as plt\n",
    "plt.figure(figsize=(20,10))\n",
    "plt.plot(max_depths, train_scores, '-o', label = 'Training')\n",
    "plt.plot(max_depths, test_scores,'-o', label = 'Testing')\n",
    "\n",
    "plt.legend()"
   ]
  },
  {
   "cell_type": "code",
   "execution_count": 24,
   "id": "0dbbb561",
   "metadata": {},
   "outputs": [],
   "source": [
    "criterions = ['gini', 'entropy']"
   ]
  },
  {
   "cell_type": "code",
   "execution_count": 26,
   "id": "f5116fcc",
   "metadata": {},
   "outputs": [
    {
     "name": "stdout",
     "output_type": "stream",
     "text": [
      "Train Acc = 1.000000 , Test Acc = 0.895700\n",
      "Train Acc = 1.000000 , Test Acc = 0.896443\n"
     ]
    }
   ],
   "source": [
    "for i in criterions:\n",
    "    clf = DecisionTreeClassifier(criterion=i)\n",
    "    clf.fit(xtrain,ytrain)\n",
    "    \n",
    "    #Training Accuracy\n",
    "    train_acc = clf.score(xtrain, ytrain)\n",
    "    train_scores.append(train_acc)\n",
    "    \n",
    "    #Testing Accuracy\n",
    "    test_acc = clf.score(xtest, ytest)\n",
    "    test_scores.append(test_acc)\n",
    "    \n",
    "    print('Train Acc = %f , Test Acc = %f' % (train_acc, test_acc))"
   ]
  },
  {
   "cell_type": "code",
   "execution_count": null,
   "id": "79f58811",
   "metadata": {},
   "outputs": [],
   "source": []
  }
 ],
 "metadata": {
  "kernelspec": {
   "display_name": "Python 3",
   "language": "python",
   "name": "python3"
  },
  "language_info": {
   "codemirror_mode": {
    "name": "ipython",
    "version": 3
   },
   "file_extension": ".py",
   "mimetype": "text/x-python",
   "name": "python",
   "nbconvert_exporter": "python",
   "pygments_lexer": "ipython3",
   "version": "3.8.8"
  }
 },
 "nbformat": 4,
 "nbformat_minor": 5
}
